{
 "cells": [
  {
   "cell_type": "code",
   "execution_count": 1,
   "id": "496ab255-bbf1-4979-9f59-8ca835d1ba12",
   "metadata": {},
   "outputs": [],
   "source": [
    "import numpy as np\n",
    "import matplotlib.pyplot as plt\n",
    "import sympy as sp\n",
    "from scipy.integrate import solve_ivp\n",
    "import math"
   ]
  },
  {
   "cell_type": "code",
   "execution_count": 2,
   "id": "1fce04d1-d841-4345-abc2-89ad304e738f",
   "metadata": {},
   "outputs": [],
   "source": [
    "def lux_dynamics(y, t, c0, k1, kD, k2, k5, k6, k3, k4, A):\n",
    "    # y[0] = R\n",
    "    # y[1] = C\n",
    "    # y[2] = RA\n",
    "    dydt = np.zeros(3)\n",
    "    dydt[0] = c0 + ((k1 * y[1]) / (y[1] + kD)) - (k2 * y[0]) - k5 * y[0] * A + k6 * y[2]\n",
    "    dydt[1] = (k3 * (y[2]) ** 2) - (k4 * y[1])\n",
    "    dydt[2] = (k5 * y[0]) * A - (k6 * y[2]) - (2 * k3 * (y[2]) ** 2) + (2 * k4 * y[1])\n",
    "    return dydt"
   ]
  },
  {
   "cell_type": "code",
   "execution_count": 3,
   "id": "1e852910-0ce8-4aa7-aa70-9a0dab180e9d",
   "metadata": {},
   "outputs": [],
   "source": [
    "def find_bistability(theta):\n",
    "  #Will match equation 1 for figure (?)4\n",
    "  line_a =  (2 + theta)**2 / (1+ 2*theta)\n",
    "  line_b = 2*(1 + theta)**2 / theta\n",
    "  return line_a, line_b"
   ]
  },
  {
   "cell_type": "code",
   "execution_count": 6,
   "id": "7955dee7-61c1-411e-a930-cf8e51221462",
   "metadata": {},
   "outputs": [],
   "source": [
    "def plot_bistability_regions(c0, k1, kD, k2, k5, k6, k3, k4, A_values, y0, t):\n",
    "    R_values = np.zeros((len(A_values), len(y0)))\n",
    "    tspan = [t[0], t[-1]]\n",
    "    for j, A in enumerate(A_values):\n",
    "        for i, ir in enumerate(y0):\n",
    "            sol = solve_ivp(lambda t, y0: lux_dynamics(y0, t, c0, k1, kD, k2, k5, k6, k3, k4, A), tspan, [ir, y0[1], y0[2]], t_eval=t)\n",
    "            R_values[j, i] = sol.y[0][-1]\n",
    "    return R_values"
   ]
  },
  {
   "cell_type": "code",
   "execution_count": 5,
   "id": "fe931278-c94d-41b7-91f2-165679506bca",
   "metadata": {},
   "outputs": [],
   "source": [
    "# intialize constants\n",
    "y0 = [25, 200, 500]\n",
    "t = np.linspace(0, 1000, 1000)\n",
    "c0, k1, kD, k2, k5, k6, k3, k4 = 1, 360, 2, 18, 1, 2, 4, 1\n",
    "A_values = np.linspace(10, 20, 10)  # Values of A to vary\n",
    "A = 6.0\n",
    "delta_values = [1]\n",
    "gamma_values = [20, 16, 12, 8]\n",
    "theta_values = np.linspace(0.1, 9.5, 100)\n",
    "# Concentrations of AIex\n",
    "AIex_values = np.linspace(0, 100, 5)\n",
    "\n",
    "# Simulate response peak maxima\n",
    "response_maxima_induced = []\n",
    "response_maxima_diluted = []\n",
    "\n",
    "tspan = [t[0],t[-1]]"
   ]
  },
  {
   "cell_type": "code",
   "execution_count": null,
   "id": "e03dafae-bb92-4419-a406-3b773cb67bfa",
   "metadata": {},
   "outputs": [],
   "source": [
    "line_a, line_b = find_bistability(theta_values)\n",
    "\n",
    "# Plot the lines\n",
    "plt.plot(line_a,line_b)\n",
    "#plt.plot(theta_values, line_b, label='Line B')\n",
    "\n",
    "plt.xlabel('γ/δ')\n",
    "plt.ylabel('(δ+γ)^2/β')\n",
    "plt.title('Stability Lines')\n",
    "plt.grid(True)\n",
    "plt.show()\n"
   ]
  },
  {
   "cell_type": "code",
   "execution_count": null,
   "id": "f1dadfe0-c1e8-4d75-8dbc-4cc364978d2b",
   "metadata": {},
   "outputs": [],
   "source": [
    "for gamma in [20, 16, 12, 8]: # gamma_values\n",
    "    R_values = plot_bistability_regions(c0, k1, kD, k2, k5, k6, k3, k4, [gamma], y0, t)\n",
    "    for i in range(len(y0)):\n",
    "        plt.plot(1/np.sqrt(kD/(A**2)), R_values[0, i], 'o', label=f'Gamma = {gamma}, Initial R = {y0[i]}')\n",
    "\n",
    "plt.xlabel('1/√β')\n",
    "plt.ylabel('Expression of luxR (R)')\n",
    "plt.title('Predicted Dependency of luxR Expression on [AI]')\n",
    "plt.legend()\n",
    "plt.grid(True)\n",
    "plt.show()"
   ]
  },
  {
   "cell_type": "code",
   "execution_count": null,
   "id": "29075933-3733-4e72-9a74-21f5e0572e62",
   "metadata": {},
   "outputs": [],
   "source": [
    "for AIex in AIex_values:\n",
    "    # Simulate response when induced to 100 nM AIex\n",
    "    sol_induced = solve_ivp(lambda t,y0:lux_dynamics(y0, t, c0, k1, kD, k2, k5, k6, k3, k4, AIex),tspan,y0,t_eval=t)\n",
    "    # odeint(lux_dynamics, y0, t, args=(c0, k1, kD, k2, k5, k6, k3, k4, AIex))\n",
    "    response_maxima_induced.append(np.max(sol_induced.y[0]))\n",
    "\n",
    "    # Simulate response when diluted from 100 nM AIex\n",
    "    sol_diluted = solve_ivp(lambda t,y0:lux_dynamics(y0, t, c0, k1, kD, k2, k5, k6, k3, k4, 100),tspan,y0,t_eval=t)\n",
    "    response_maxima_induced.append(np.max(sol_induced.y[0]))\n",
    "\n",
    "# Plot the comparison\n",
    "AIex_values = np.linspace(0, 100, len(response_maxima_induced))\n",
    "plt.plot(AIex_values, response_maxima_induced, color='red', label='UP')\n",
    "AIex_values = np.linspace(0, 100, len(response_maxima_diluted))\n",
    "plt.plot(AIex_values, response_maxima_diluted, color='blue', label='DOWN')\n",
    "plt.xlabel('[AIex] (nM)')\n",
    "plt.ylabel('Response Peak Maxima')\n",
    "plt.title('Comparison of Response Peak Maxima')\n",
    "plt.legend()\n",
    "plt.grid(True)\n",
    "plt.show()"
   ]
  },
  {
   "cell_type": "code",
   "execution_count": null,
   "id": "c2a859ad-96e6-481c-993f-3418a4d8a658",
   "metadata": {},
   "outputs": [],
   "source": []
  }
 ],
 "metadata": {
  "kernelspec": {
   "display_name": "Python 3 (ipykernel)",
   "language": "python",
   "name": "python3"
  },
  "language_info": {
   "codemirror_mode": {
    "name": "ipython",
    "version": 3
   },
   "file_extension": ".py",
   "mimetype": "text/x-python",
   "name": "python",
   "nbconvert_exporter": "python",
   "pygments_lexer": "ipython3",
   "version": "3.11.4"
  }
 },
 "nbformat": 4,
 "nbformat_minor": 5
}
